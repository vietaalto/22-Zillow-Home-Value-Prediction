{
 "cells": [
  {
   "cell_type": "markdown",
   "metadata": {
    "toc": "true"
   },
   "source": [
    "# Table of Contents\n",
    " <p>"
   ]
  },
  {
   "cell_type": "code",
   "execution_count": null,
   "metadata": {
    "collapsed": true
   },
   "outputs": [],
   "source": [
    "%load_ext autotime \n",
    "import sklearn as sk\n",
    "import numpy as np \n",
    "import pandas as pd\n",
    "import matplotlib.pyplot as plt\n",
    "%matplotlib inline\n",
    "import seaborn as sns\n",
    "import qgrid\n",
    "import os\n",
    "from IPython.display import display\n",
    "# %store -r\n",
    "import gc"
   ]
  },
  {
   "cell_type": "code",
   "execution_count": null,
   "metadata": {
    "collapsed": true
   },
   "outputs": [],
   "source": [
    "print ('List of dataset in directory:')\n",
    "os.listdir(datadir)\n",
    "print ('Loading \\'properties_2016.csv\\'... ')\n",
    "properties_2016 = pd.read_csv(datadir + \"/properties_2016.csv\")\n",
    "print ('Loading \\'properties_2017.csv\\'... ')\n",
    "properties_2017 = pd.read_csv(datadir + \"/properties_2017.csv\")\n",
    "print ('Loading \\'train_2016_v2.csv\\'... ')\n",
    "train_2016 = pd.read_csv(datadir + \"/train_2016_v2.csv\")\n",
    "print ('Loading \\'train_2017.csv\\'... ')\n",
    "train_2017 = pd.read_csv(datadir + \"/train_2017.csv\")\n",
    "print ('Loading \\'sample_submission.csv\\'... ')\n",
    "submission = pd.read_csv(datadir + \"/sample_submission.csv\")"
   ]
  },
  {
   "cell_type": "code",
   "execution_count": null,
   "metadata": {
    "collapsed": true
   },
   "outputs": [],
   "source": [
    "def freq_trans(series):\n",
    "    \"\"\"\n",
    "    Return frequency of each element in a series (same index as original series)\n",
    "    \"\"\"\n",
    "    return series.fillna('999').groupby(series.fillna('999')).transform('count') / len(series);\n",
    "def high_cardinality(df, how, threshold = 200, exception = []):\n",
    "    \"\"\"\n",
    "    Processing high cardinality features\n",
    "    Args:\n",
    "    * Input: Dataframe\n",
    "    * how: 'freq': change each value into its frequency\n",
    "           'drop': delete the feature\n",
    "           'label_encode': label encoding the features\n",
    "           'label_encode_na': label encoding the features and keep NAs\n",
    "    * threshold (default = 200): minimum number of different values that a feature \n",
    "    must have in order to be a high cardinality feature\n",
    "    * exception (list): features that are unaffected by this function\n",
    "    Output: no output. The function makes direct change to the dataframe\n",
    "    \"\"\"\n",
    "    print ('Processing high-cardinality features:')\n",
    "    for x in df.columns:\n",
    "        if (df[x].dtype == 'O') and (len(df[x].unique()) > threshold) and (x not in exception):\n",
    "            print (x, len(df[x].unique()))\n",
    "            if how == 'freq': df[x] = freq_trans(df[x])\n",
    "            elif how =='drop': del df[x]\n",
    "            elif how == 'label_encode': df[x] = pd.factorize(df[x])[0]\n",
    "            elif how == 'label_encode_na': df[x] = pd.factorize(df[x])[0].replace(-1,np.nan)\n",
    "        else: df[x] = df[x]\n",
    "    return df;\n",
    "# date feature\n",
    "def datefeatures(df):\n",
    "    df['transactiondate'] = pd.to_datetime(df['transactiondate'])\n",
    "    df['dtyear'] = df['transactiondate'].dt.year\n",
    "    df['dtmonth'] = df['transactiondate'].dt.month\n",
    "    df['dtday'] = df['transactiondate'].dt.day\n",
    "    df['dtdayofyear'] = df['transactiondate'].dt.dayofyear\n",
    "    df['dtweekofyear'] = df['transactiondate'].dt.weekofyear\n",
    "    df['dtdayofweek'] = df['transactiondate'].dt.dayofweek\n",
    "    df['dtquarter'] = df['transactiondate'].dt.quarter\n",
    "    df = df.drop('transactiondate',axis=1)\n",
    "    return df"
   ]
  },
  {
   "cell_type": "code",
   "execution_count": null,
   "metadata": {
    "collapsed": true
   },
   "outputs": [],
   "source": [
    "properties_2016['dtyear']= 2016\n",
    "properties_2017['dtyear']= 2017\n",
    "properties = pd.merge(properties_2016,properties_2017, how = 'outer')\n",
    "del properties_2016,properties_2017\n",
    "gc.collect()\n",
    "train = pd.merge(train_2016,train_2017, how = 'outer')"
   ]
  },
  {
   "cell_type": "code",
   "execution_count": null,
   "metadata": {
    "collapsed": true
   },
   "outputs": [],
   "source": [
    "# Model 1\n",
    "# Change feature into categorical\n",
    "obj = properties.columns[properties.columns.str.contains('id|fips|censustractandblock')]\n",
    "obj = obj.drop('parcelid')\n",
    "print (obj)\n",
    "for i in obj: properties[i] = properties[i].astype(object);\n",
    "# Additional features: Number of NaNs in each row\n",
    "properties['Number of NaNs'] = properties.isnull().sum(axis=1)\n",
    "# Processing categorical features\n",
    "properties = (properties.pipe(high_cardinality, how = 'freq', threshold = 150)\n",
    "                        .pipe(pd.get_dummies,dummy_na = True))\n",
    "# Additional features:\n",
    "# Number of properties in the zip\n",
    "zip_count = properties['regionidzip'].value_counts().to_dict()\n",
    "properties['N-zip_count'] = properties['regionidzip'].map(zip_count)"
   ]
  }
 ],
 "metadata": {
  "kernelspec": {
   "display_name": "Python 3",
   "language": "python",
   "name": "python3"
  },
  "language_info": {
   "codemirror_mode": {
    "name": "ipython",
    "version": 3
   },
   "file_extension": ".py",
   "mimetype": "text/x-python",
   "name": "python",
   "nbconvert_exporter": "python",
   "pygments_lexer": "ipython3",
   "version": "3.6.1"
  },
  "toc": {
   "colors": {
    "hover_highlight": "#DAA520",
    "navigate_num": "#000000",
    "navigate_text": "#333333",
    "running_highlight": "#FF0000",
    "selected_highlight": "#FFD700",
    "sidebar_border": "#EEEEEE",
    "wrapper_background": "#FFFFFF"
   },
   "moveMenuLeft": true,
   "nav_menu": {
    "height": "12px",
    "width": "252px"
   },
   "navigate_menu": true,
   "number_sections": false,
   "sideBar": true,
   "threshold": 4,
   "toc_cell": true,
   "toc_section_display": "block",
   "toc_window_display": false,
   "widenNotebook": false
  },
  "varInspector": {
   "cols": {
    "lenName": 16,
    "lenType": 16,
    "lenVar": 40
   },
   "kernels_config": {
    "python": {
     "delete_cmd_postfix": "",
     "delete_cmd_prefix": "del ",
     "library": "var_list.py",
     "varRefreshCmd": "print(var_dic_list())"
    },
    "r": {
     "delete_cmd_postfix": ") ",
     "delete_cmd_prefix": "rm(",
     "library": "var_list.r",
     "varRefreshCmd": "cat(var_dic_list()) "
    }
   },
   "types_to_exclude": [
    "module",
    "function",
    "builtin_function_or_method",
    "instance",
    "_Feature"
   ],
   "window_display": false
  }
 },
 "nbformat": 4,
 "nbformat_minor": 2
}
